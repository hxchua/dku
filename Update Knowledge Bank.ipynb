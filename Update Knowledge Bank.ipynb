{
 "cells": [
  {
   "cell_type": "markdown",
   "metadata": {},
   "source": [
    "### This notebook shows how to update a Dataiku Knowledge Bank using Dataiku Python API. In this example, we detect the new files being added through checking whether the files are uploaded after a certain time that was recorded as a project variable. "
   ]
  },
  {
   "cell_type": "code",
   "execution_count": 0,
   "metadata": {},
   "outputs": [],
   "source": [
    "%pylab inline"
   ]
  },
  {
   "cell_type": "code",
   "execution_count": 1,
   "metadata": {},
   "outputs": [],
   "source": [
    "import dataiku\n",
    "from dataiku import pandasutils as pdu\n",
    "import pandas as pd"
   ]
  },
  {
   "cell_type": "code",
   "execution_count": 1,
   "metadata": {},
   "outputs": [],
   "source": [
    "#from datetime import datetime, timedelta\n",
    "import dataiku\n",
    "import time"
   ]
  },
  {
   "cell_type": "code",
   "execution_count": 2,
   "metadata": {},
   "outputs": [],
   "source": [
    "# Fetch variables\n",
    "project = dataiku.api_client().get_default_project()\n",
    "variables = project.get_variables()\n",
    "\n",
    "\n",
    "# Create range of dates\n",
    "now = int(time.time()*1000) #datetime.now().strftime(\"20%y-%m-%d\")\n",
    "variables[\"standard\"][\"datetime_upload\"] = now\n",
    "project.set_variables(variables)\n"
   ]
  },
  {
   "cell_type": "code",
   "execution_count": 3,
   "metadata": {
    "scrolled": true
   },
   "outputs": [
    {
     "data": {
      "text/plain": [
       "1706160888196"
      ]
     },
     "execution_count": 3,
     "metadata": {},
     "output_type": "execute_result"
    }
   ],
   "source": [
    "now"
   ]
  },
  {
   "cell_type": "code",
   "execution_count": 4,
   "metadata": {},
   "outputs": [
    {
     "data": {
      "text/plain": [
       "int"
      ]
     },
     "execution_count": 4,
     "metadata": {},
     "output_type": "execute_result"
    }
   ],
   "source": [
    "type(now)"
   ]
  },
  {
   "cell_type": "code",
   "execution_count": 2,
   "metadata": {},
   "outputs": [
    {
     "data": {
      "text/plain": [
       "1706238003659"
      ]
     },
     "execution_count": 2,
     "metadata": {},
     "output_type": "execute_result"
    }
   ],
   "source": [
    "project = dataiku.api_client().get_default_project()\n",
    "variables = project.get_variables()\n",
    "click_time = variables[\"standard\"][\"datetime_upload\"]\n",
    "click_time"
   ]
  },
  {
   "cell_type": "code",
   "execution_count": 3,
   "metadata": {},
   "outputs": [
    {
     "name": "stdout",
     "output_type": "stream",
     "text": [
      "1705986819086\n",
      "1706074298626\n",
      "1706240592602\n"
     ]
    }
   ],
   "source": [
    "folder = dataiku.Folder('pdfs')\n",
    "contents = folder.get_path_details()\n",
    "for i in contents[\"children\"]:\n",
    "    epoch_time=i[\"lastModified\"] \n",
    "    print(epoch_time)"
   ]
  },
  {
   "cell_type": "code",
   "execution_count": 4,
   "metadata": {},
   "outputs": [
    {
     "name": "stdout",
     "output_type": "stream",
     "text": [
      "['/third-quarter-2023-performance-and-risk-monitoring-report.pdf']\n"
     ]
    }
   ],
   "source": [
    "uploaded_file_list = []\n",
    "for i in contents[\"children\"]:\n",
    "    epoch_time=i[\"lastModified\"]\n",
    "    if epoch_time > click_time:\n",
    "        #print(epoch_time - now)\n",
    "        filename = i[\"fullPath\"]\n",
    "        uploaded_file_list.append(filename)\n",
    "    \n",
    "print(uploaded_file_list)"
   ]
  },
  {
   "cell_type": "code",
   "execution_count": 14,
   "metadata": {},
   "outputs": [
    {
     "name": "stdout",
     "output_type": "stream",
     "text": [
      "IPfgEibh\n"
     ]
    }
   ],
   "source": [
    "### Getting the knowledge bank ID\n",
    "kb_id = project.list_knowledge_banks()[0]['id']\n",
    "kb = dataiku.KnowledgeBank(kb_id)\n",
    "# Read recipe inputs\n",
    "chunks = dataiku.Dataset(\"risk_text_1\")\n",
    "all_texts = chunks.get_dataframe()\n",
    "print(kb_id)\n"
   ]
  },
  {
   "cell_type": "code",
   "execution_count": 15,
   "metadata": {},
   "outputs": [
    {
     "data": {
      "text/html": [
       "<div>\n",
       "<style scoped>\n",
       "    .dataframe tbody tr th:only-of-type {\n",
       "        vertical-align: middle;\n",
       "    }\n",
       "\n",
       "    .dataframe tbody tr th {\n",
       "        vertical-align: top;\n",
       "    }\n",
       "\n",
       "    .dataframe thead th {\n",
       "        text-align: right;\n",
       "    }\n",
       "</style>\n",
       "<table border=\"1\" class=\"dataframe\">\n",
       "  <thead>\n",
       "    <tr style=\"text-align: right;\">\n",
       "      <th></th>\n",
       "      <th>chunk_id</th>\n",
       "      <th>error_message</th>\n",
       "      <th>file</th>\n",
       "      <th>metadata</th>\n",
       "      <th>text</th>\n",
       "    </tr>\n",
       "  </thead>\n",
       "  <tbody>\n",
       "    <tr>\n",
       "      <th>0</th>\n",
       "      <td>1</td>\n",
       "      <td>NaN</td>\n",
       "      <td>/first-quarter-2023-performance-risk-monitorin...</td>\n",
       "      <td>{'page': 1}</td>\n",
       "      <td>Find more information on Fundsingapore.com 1\\n...</td>\n",
       "    </tr>\n",
       "    <tr>\n",
       "      <th>1</th>\n",
       "      <td>5</td>\n",
       "      <td>NaN</td>\n",
       "      <td>/first-quarter-2023-performance-risk-monitorin...</td>\n",
       "      <td>{'page': 5}</td>\n",
       "      <td>Find more information on Fundsingapore.com 5\\n...</td>\n",
       "    </tr>\n",
       "    <tr>\n",
       "      <th>2</th>\n",
       "      <td>9</td>\n",
       "      <td>NaN</td>\n",
       "      <td>/first-quarter-2023-performance-risk-monitorin...</td>\n",
       "      <td>{'page': 9}</td>\n",
       "      <td>Find more information on Fundsingapore.com 9\\n...</td>\n",
       "    </tr>\n",
       "    <tr>\n",
       "      <th>3</th>\n",
       "      <td>13</td>\n",
       "      <td>NaN</td>\n",
       "      <td>/first-quarter-2023-performance-risk-monitorin...</td>\n",
       "      <td>{'page': 13}</td>\n",
       "      <td>Find more information on Fundsingapore.com 13\\...</td>\n",
       "    </tr>\n",
       "    <tr>\n",
       "      <th>4</th>\n",
       "      <td>17</td>\n",
       "      <td>NaN</td>\n",
       "      <td>/first-quarter-2023-performance-risk-monitorin...</td>\n",
       "      <td>{'page': 17}</td>\n",
       "      <td>Find more information on Fundsingapore.com 17\\...</td>\n",
       "    </tr>\n",
       "  </tbody>\n",
       "</table>\n",
       "</div>"
      ],
      "text/plain": [
       "   chunk_id  error_message                                               file      metadata                                               text\n",
       "0         1            NaN  /first-quarter-2023-performance-risk-monitorin...   {'page': 1}  Find more information on Fundsingapore.com 1\\n...\n",
       "1         5            NaN  /first-quarter-2023-performance-risk-monitorin...   {'page': 5}  Find more information on Fundsingapore.com 5\\n...\n",
       "2         9            NaN  /first-quarter-2023-performance-risk-monitorin...   {'page': 9}  Find more information on Fundsingapore.com 9\\n...\n",
       "3        13            NaN  /first-quarter-2023-performance-risk-monitorin...  {'page': 13}  Find more information on Fundsingapore.com 13\\...\n",
       "4        17            NaN  /first-quarter-2023-performance-risk-monitorin...  {'page': 17}  Find more information on Fundsingapore.com 17\\..."
      ]
     },
     "execution_count": 15,
     "metadata": {},
     "output_type": "execute_result"
    }
   ],
   "source": [
    "all_texts.head()"
   ]
  },
  {
   "cell_type": "code",
   "execution_count": 22,
   "metadata": {},
   "outputs": [],
   "source": [
    "new_texts = all_texts[all_texts['file'].isin(uploaded_file_list)]"
   ]
  },
  {
   "cell_type": "code",
   "execution_count": 23,
   "metadata": {},
   "outputs": [],
   "source": [
    "new_texts = new_texts.reset_index(drop=True)"
   ]
  },
  {
   "cell_type": "code",
   "execution_count": 24,
   "metadata": {},
   "outputs": [
    {
     "data": {
      "text/html": [
       "<div>\n",
       "<style scoped>\n",
       "    .dataframe tbody tr th:only-of-type {\n",
       "        vertical-align: middle;\n",
       "    }\n",
       "\n",
       "    .dataframe tbody tr th {\n",
       "        vertical-align: top;\n",
       "    }\n",
       "\n",
       "    .dataframe thead th {\n",
       "        text-align: right;\n",
       "    }\n",
       "</style>\n",
       "<table border=\"1\" class=\"dataframe\">\n",
       "  <thead>\n",
       "    <tr style=\"text-align: right;\">\n",
       "      <th></th>\n",
       "      <th>chunk_id</th>\n",
       "      <th>error_message</th>\n",
       "      <th>file</th>\n",
       "      <th>metadata</th>\n",
       "      <th>text</th>\n",
       "    </tr>\n",
       "  </thead>\n",
       "  <tbody>\n",
       "    <tr>\n",
       "      <th>0</th>\n",
       "      <td>1</td>\n",
       "      <td>NaN</td>\n",
       "      <td>/third-quarter-2023-performance-and-risk-monit...</td>\n",
       "      <td>{'page': 1}</td>\n",
       "      <td>Find more information on Fundsingapore.com 1\\n...</td>\n",
       "    </tr>\n",
       "    <tr>\n",
       "      <th>1</th>\n",
       "      <td>5</td>\n",
       "      <td>NaN</td>\n",
       "      <td>/third-quarter-2023-performance-and-risk-monit...</td>\n",
       "      <td>{'page': 5}</td>\n",
       "      <td>Find more information on Fundsingapore.com 5\\n...</td>\n",
       "    </tr>\n",
       "    <tr>\n",
       "      <th>2</th>\n",
       "      <td>9</td>\n",
       "      <td>NaN</td>\n",
       "      <td>/third-quarter-2023-performance-and-risk-monit...</td>\n",
       "      <td>{'page': 9}</td>\n",
       "      <td>Find more information on Fundsingapore.com 9\\n...</td>\n",
       "    </tr>\n",
       "    <tr>\n",
       "      <th>3</th>\n",
       "      <td>13</td>\n",
       "      <td>NaN</td>\n",
       "      <td>/third-quarter-2023-performance-and-risk-monit...</td>\n",
       "      <td>{'page': 13}</td>\n",
       "      <td>Find more information on Fundsingapore.com 13\\...</td>\n",
       "    </tr>\n",
       "    <tr>\n",
       "      <th>4</th>\n",
       "      <td>17</td>\n",
       "      <td>NaN</td>\n",
       "      <td>/third-quarter-2023-performance-and-risk-monit...</td>\n",
       "      <td>{'page': 17}</td>\n",
       "      <td>Find more information on Fundsingapore.com 17\\...</td>\n",
       "    </tr>\n",
       "  </tbody>\n",
       "</table>\n",
       "</div>"
      ],
      "text/plain": [
       "   chunk_id  error_message                                               file      metadata                                               text\n",
       "0         1            NaN  /third-quarter-2023-performance-and-risk-monit...   {'page': 1}  Find more information on Fundsingapore.com 1\\n...\n",
       "1         5            NaN  /third-quarter-2023-performance-and-risk-monit...   {'page': 5}  Find more information on Fundsingapore.com 5\\n...\n",
       "2         9            NaN  /third-quarter-2023-performance-and-risk-monit...   {'page': 9}  Find more information on Fundsingapore.com 9\\n...\n",
       "3        13            NaN  /third-quarter-2023-performance-and-risk-monit...  {'page': 13}  Find more information on Fundsingapore.com 13\\...\n",
       "4        17            NaN  /third-quarter-2023-performance-and-risk-monit...  {'page': 17}  Find more information on Fundsingapore.com 17\\..."
      ]
     },
     "execution_count": 24,
     "metadata": {},
     "output_type": "execute_result"
    }
   ],
   "source": [
    "new_texts.head()"
   ]
  },
  {
   "cell_type": "code",
   "execution_count": 25,
   "metadata": {},
   "outputs": [],
   "source": [
    "def filepage(row):\n",
    "    #return row['file']+'- page ' + str(row['chunk_id'])\n",
    "    return row['file']+ ' ' + row['metadata'] +' ' + row['text']"
   ]
  },
  {
   "cell_type": "code",
   "execution_count": 26,
   "metadata": {
    "scrolled": true
   },
   "outputs": [],
   "source": [
    "### We concantenate the text and source metadata together \n",
    "### as the knowledge bank can only be updated using a single column\n",
    "### it can't take in metadata columns separately\n",
    "new_texts['text_and_source'] = new_texts.apply(filepage, axis=1)"
   ]
  },
  {
   "cell_type": "code",
   "execution_count": 27,
   "metadata": {},
   "outputs": [
    {
     "data": {
      "text/html": [
       "<div>\n",
       "<style scoped>\n",
       "    .dataframe tbody tr th:only-of-type {\n",
       "        vertical-align: middle;\n",
       "    }\n",
       "\n",
       "    .dataframe tbody tr th {\n",
       "        vertical-align: top;\n",
       "    }\n",
       "\n",
       "    .dataframe thead th {\n",
       "        text-align: right;\n",
       "    }\n",
       "</style>\n",
       "<table border=\"1\" class=\"dataframe\">\n",
       "  <thead>\n",
       "    <tr style=\"text-align: right;\">\n",
       "      <th></th>\n",
       "      <th>chunk_id</th>\n",
       "      <th>error_message</th>\n",
       "      <th>file</th>\n",
       "      <th>metadata</th>\n",
       "      <th>text</th>\n",
       "      <th>text_and_source</th>\n",
       "    </tr>\n",
       "  </thead>\n",
       "  <tbody>\n",
       "    <tr>\n",
       "      <th>0</th>\n",
       "      <td>1</td>\n",
       "      <td>NaN</td>\n",
       "      <td>/third-quarter-2023-performance-and-risk-monit...</td>\n",
       "      <td>{'page': 1}</td>\n",
       "      <td>Find more information on Fundsingapore.com 1\\n...</td>\n",
       "      <td>/third-quarter-2023-performance-and-risk-monit...</td>\n",
       "    </tr>\n",
       "    <tr>\n",
       "      <th>1</th>\n",
       "      <td>5</td>\n",
       "      <td>NaN</td>\n",
       "      <td>/third-quarter-2023-performance-and-risk-monit...</td>\n",
       "      <td>{'page': 5}</td>\n",
       "      <td>Find more information on Fundsingapore.com 5\\n...</td>\n",
       "      <td>/third-quarter-2023-performance-and-risk-monit...</td>\n",
       "    </tr>\n",
       "    <tr>\n",
       "      <th>2</th>\n",
       "      <td>9</td>\n",
       "      <td>NaN</td>\n",
       "      <td>/third-quarter-2023-performance-and-risk-monit...</td>\n",
       "      <td>{'page': 9}</td>\n",
       "      <td>Find more information on Fundsingapore.com 9\\n...</td>\n",
       "      <td>/third-quarter-2023-performance-and-risk-monit...</td>\n",
       "    </tr>\n",
       "    <tr>\n",
       "      <th>3</th>\n",
       "      <td>13</td>\n",
       "      <td>NaN</td>\n",
       "      <td>/third-quarter-2023-performance-and-risk-monit...</td>\n",
       "      <td>{'page': 13}</td>\n",
       "      <td>Find more information on Fundsingapore.com 13\\...</td>\n",
       "      <td>/third-quarter-2023-performance-and-risk-monit...</td>\n",
       "    </tr>\n",
       "    <tr>\n",
       "      <th>4</th>\n",
       "      <td>17</td>\n",
       "      <td>NaN</td>\n",
       "      <td>/third-quarter-2023-performance-and-risk-monit...</td>\n",
       "      <td>{'page': 17}</td>\n",
       "      <td>Find more information on Fundsingapore.com 17\\...</td>\n",
       "      <td>/third-quarter-2023-performance-and-risk-monit...</td>\n",
       "    </tr>\n",
       "  </tbody>\n",
       "</table>\n",
       "</div>"
      ],
      "text/plain": [
       "   chunk_id  error_message                                               file      metadata                                               text                                    text_and_source\n",
       "0         1            NaN  /third-quarter-2023-performance-and-risk-monit...   {'page': 1}  Find more information on Fundsingapore.com 1\\n...  /third-quarter-2023-performance-and-risk-monit...\n",
       "1         5            NaN  /third-quarter-2023-performance-and-risk-monit...   {'page': 5}  Find more information on Fundsingapore.com 5\\n...  /third-quarter-2023-performance-and-risk-monit...\n",
       "2         9            NaN  /third-quarter-2023-performance-and-risk-monit...   {'page': 9}  Find more information on Fundsingapore.com 9\\n...  /third-quarter-2023-performance-and-risk-monit...\n",
       "3        13            NaN  /third-quarter-2023-performance-and-risk-monit...  {'page': 13}  Find more information on Fundsingapore.com 13\\...  /third-quarter-2023-performance-and-risk-monit...\n",
       "4        17            NaN  /third-quarter-2023-performance-and-risk-monit...  {'page': 17}  Find more information on Fundsingapore.com 17\\...  /third-quarter-2023-performance-and-risk-monit..."
      ]
     },
     "execution_count": 27,
     "metadata": {},
     "output_type": "execute_result"
    }
   ],
   "source": [
    "new_texts.head()"
   ]
  },
  {
   "cell_type": "code",
   "execution_count": 28,
   "metadata": {},
   "outputs": [],
   "source": [
    "#new_texts_df = new_texts[['source','text']]\n",
    "#new_texts_df = new_texts[['file','metadata','text']]\n",
    "new_texts_df = new_texts[['text_and_source']]"
   ]
  },
  {
   "cell_type": "code",
   "execution_count": 29,
   "metadata": {},
   "outputs": [],
   "source": [
    "from langchain.document_loaders import DataFrameLoader\n",
    "loader = DataFrameLoader(new_texts_df, page_content_column=\"text_and_source\")\n",
    "documents = loader.load()"
   ]
  },
  {
   "cell_type": "code",
   "execution_count": 30,
   "metadata": {},
   "outputs": [
    {
     "name": "stderr",
     "output_type": "stream",
     "text": [
      "distutils Version classes are deprecated. Use packaging.version instead.\n",
      "distutils Version classes are deprecated. Use packaging.version instead.\n"
     ]
    },
    {
     "data": {
      "text/plain": [
       "['056686cf-7c7b-4806-af03-9c5898174bbf',\n",
       " '746bef92-ffff-4615-b2c5-3c2ea5fb57f6',\n",
       " '99958ded-0eed-4c1e-bf43-2b46b5403bac',\n",
       " '31e8b56d-a9a9-45ea-b449-99d8d7ac3513',\n",
       " '4d913e25-0d0b-44d6-858d-37aa8663ce7d',\n",
       " '8c309cbb-6649-4a86-a07c-44ede9401bd0',\n",
       " '80f407e4-71f2-40e7-8c38-cb07dc25ec66',\n",
       " '4c3c4eef-1ea5-4a3e-a711-763012e552ac',\n",
       " 'de1803b7-dc0c-43be-9230-e1a9bd13709d',\n",
       " 'bc629248-048b-481a-b25a-1627b8db1648',\n",
       " 'b5966003-307f-4d0d-ad69-cbc51882e83a',\n",
       " '09e09382-87ff-4537-a1b4-f9d2d7c78ddb',\n",
       " '9cc57290-21c5-498d-8998-6890da5987ab',\n",
       " '4bd2e119-a059-4209-b531-9f02ce433d3a',\n",
       " '7e0586eb-81b2-4de6-85df-94184402c2da',\n",
       " '607af001-eaa5-4c3f-99fe-2fc9b210e7d4',\n",
       " '0e652802-4a54-4363-aa0b-4710abf4edc8',\n",
       " '7782934b-98d8-4c08-9a6c-d0f49f30faa2',\n",
       " '044337b5-d261-4bcf-8ca9-0f90ebf9f1e7',\n",
       " 'df899004-dc83-4b25-80a7-2eef62315cb6',\n",
       " '409dbe65-e37a-4682-9748-6f89032b9a8c',\n",
       " '5bd5b218-97bc-46a9-bb7c-87e7ad60150c',\n",
       " '030a01d1-4583-4a75-b333-df48ed1f536b',\n",
       " '0b218164-88cb-435f-8727-1a2575bc015e',\n",
       " '70e80fd7-d29d-4df0-95a9-3c3d4a9b87b6',\n",
       " 'fcbde8ff-592a-4101-944f-67c13522df25',\n",
       " '8f2d0463-bf58-42dd-81d1-6ce35dcbf393',\n",
       " '17128219-9948-44fb-acde-181bbb1cce0e',\n",
       " 'c054e968-93da-4d6c-ae98-437ba42095b4',\n",
       " '645daf5a-c00e-416e-ad2c-a27244d50509',\n",
       " 'fd8a7125-16ed-43a0-a279-df2458ae7b96',\n",
       " '177ef67f-8007-46ee-9321-4939b46bfefb',\n",
       " 'c8953a3c-dc50-4c2a-9107-a5a87528290e',\n",
       " '30ceae48-eb90-49ec-88c7-f6a759b40f7f',\n",
       " '6b3054bc-fe6d-4a03-8d14-6b7efbb260c9',\n",
       " 'dfc54fc4-36ab-47cb-b0ac-dcc5bfcb9fef',\n",
       " '6b3f0d54-6f25-416e-b31f-7c7a820ad909',\n",
       " '3020befc-bd44-438c-b190-c26e41cc64e0',\n",
       " 'a592c422-2623-4bf6-95cc-3b936bcebd7d',\n",
       " '1b324b35-9b03-40ff-82e3-e2aa664b8c63',\n",
       " '34a18336-bb62-4eb6-918c-08f6150ad98a',\n",
       " '55197e1a-b113-4946-bfb2-311e9300e341',\n",
       " 'e311a332-49d8-47d3-8fa7-11504654fa48',\n",
       " 'eaba72ae-1e60-4945-9b4f-dca15b6c3478']"
      ]
     },
     "execution_count": 30,
     "metadata": {},
     "output_type": "execute_result"
    }
   ],
   "source": [
    "vs = kb.as_langchain_vectorstore()\n",
    "vs.add_documents(documents)"
   ]
  },
  {
   "cell_type": "code",
   "execution_count": 31,
   "metadata": {},
   "outputs": [],
   "source": [
    "vs.save_local(\"/data/dataiku/dss_data/knowledge-banks/TEST_UPLOAD_RAG/IPfgEibh/\")"
   ]
  },
  {
   "cell_type": "markdown",
   "metadata": {},
   "source": [
    "For more information on the Dataiku Python API relating to LLM Mesh, see here: https://developer.dataiku.com/latest/concepts-and-examples/llm-mesh.html"
   ]
  }
 ],
 "metadata": {
  "createdOn": 1703052386660,
  "creator": "huixiang.chua",
  "customFields": {},
  "hide_input": false,
  "kernelspec": {
   "display_name": "Python (env py_39_hx_openai)",
   "language": "python",
   "name": "py-dku-venv-py_39_hx_openai"
  },
  "language_info": {
   "codemirror_mode": {
    "name": "ipython",
    "version": 3
   },
   "file_extension": ".py",
   "mimetype": "text/x-python",
   "name": "python",
   "nbconvert_exporter": "python",
   "pygments_lexer": "ipython3",
   "version": "3.9.18"
  },
  "modifiedBy": "huixiang.chua",
  "tags": []
 },
 "nbformat": 4,
 "nbformat_minor": 1
}
